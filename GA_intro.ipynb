{
 "cells": [
  {
   "cell_type": "markdown",
   "id": "4b782829-0445-4043-881f-7530fd33f24e",
   "metadata": {},
   "source": [
    "# Algorithmes Génétiques"
   ]
  },
  {
   "cell_type": "markdown",
   "id": "4f6e647d-f056-40b2-8a67-cd45ded0ef41",
   "metadata": {},
   "source": [
    "![alt text](pics/dna-Genetic-Algorithm_3.jpg \"Algorithmes Génétiques\")\n",
    "(source de l'image: [pixabay](https://pixabay.com/de/illustrations/dna-evolution-dinosaurier-roboter-3778639/))"
   ]
  },
  {
   "cell_type": "markdown",
   "id": "cae4b0ae-f9a0-4f21-befd-7924fd0279a8",
   "metadata": {},
   "source": [
    "## Contexte"
   ]
  },
  {
   "cell_type": "markdown",
   "id": "24daf170-8ae7-45b8-9007-b7778b4ccf58",
   "metadata": {},
   "source": [
    "**ToDo: Explications AG - intro**\n",
    "\n",
    "Let’s start with a few definitions, rephrased in the context of the TSP:\n",
    "- Gene: a city (represented as (x, y) coordinates)\n",
    "- Individual (aka “chromosome”): a single route satisfying the conditions above\n",
    "- Population: a collection of possible routes (i.e., collection of individuals)\n",
    "- Parents: two routes that are combined to create a new route\n",
    "- Mating pool: a collection of parents that are used to create our next population (thus creating the next generation of routes)\n",
    "- Fitness: a function that tells us how good each route is (in our case, how short the distance is)\n",
    "- Mutation: a way to introduce variation in our population by randomly swapping two cities in a route\n",
    "- Elitism: a way to carry the best individuals into the next generation\n",
    "\n",
    "Structure de l'algorithme :\n",
    "\n",
    "1. Create the population\n",
    "2. Determine fitness\n",
    "3. Select the mating pool\n",
    "4. Breed\n",
    "5. Mutate\n",
    "6. Repeat"
   ]
  },
  {
   "cell_type": "markdown",
   "id": "bd055cde-4095-42d2-b6ae-c6f80582515f",
   "metadata": {},
   "source": [
    "## Le problème du voyageur de commerce (*travelling salesman problem*)"
   ]
  },
  {
   "cell_type": "markdown",
   "id": "7c5a4fdb-3411-4ff4-8f35-dd44cf7328ea",
   "metadata": {},
   "source": [
    "Le problème du voyageur de commerce, ou *problème du commis voyageur*, est un problème d'optimisation qui consiste à déterminer, étant donné une liste de villes et les distances entre toutes les paires de villes, le plus court circuit qui passe par chaque ville une et une seule fois (source: [fr.wikipedia.org](https://fr.wikipedia.org/wiki/Probl%C3%A8me_du_voyageur_de_commerce)).\n",
    "\n",
    "Les **règles** sont donc les suivantes :\n",
    "1. Chaque ville doit être visitée exactement une fois\n",
    "2. Le voyageur de commerce doit retourner à la ville de départ (la distance totale doit être calculée en conséquence !) \n",
    "\n",
    "![alt text](pics/TSP.png \"Travelling salesman problem\")\n",
    "(source de l'image: [physics.aps.org](https://physics.aps.org/articles/v10/s32))\n",
    "\n",
    "Il parait simple, non ?\n",
    "\n",
    "Malgré la simplicité de l’énoncé, aujourd'hui **on ne connaît pas** d'algorithme permettant de trouver une solution exacte rapidement et qui fonctionne dans tous les cas !\n",
    "\n",
    "\n",
    "**GOAL:** utiliser une algorithme génétique per trouver une bonne solution au prblème !\n"
   ]
  },
  {
   "cell_type": "markdown",
   "id": "1c78aa39-b700-40d3-966c-ddbf68f30400",
   "metadata": {},
   "source": [
    "## Getting started"
   ]
  },
  {
   "cell_type": "markdown",
   "id": "44a60e1f-1080-49cd-985c-6221202a31f6",
   "metadata": {},
   "source": [
    "### Importantion des outils"
   ]
  },
  {
   "cell_type": "markdown",
   "id": "95c29940-918e-4d47-b9e8-03bb17310cc7",
   "metadata": {},
   "source": [
    "Nous commençons par importer les outils qui nous aideront à implémenter notre algorithme génétique"
   ]
  },
  {
   "cell_type": "code",
   "execution_count": 1,
   "id": "b135bfa9-53ee-4d3b-b74a-126ed11cb7fa",
   "metadata": {},
   "outputs": [],
   "source": [
    "import numpy as np, random, operator, pandas as pd, matplotlib.pyplot as plt"
   ]
  },
  {
   "cell_type": "markdown",
   "id": "dd3fd391-2018-4cb5-8925-9e717e7fa33c",
   "metadata": {},
   "source": [
    "Pour les plus curieux :\n",
    "- **numpy** nous aidera à faire les calcules\n",
    "- **pandas** à stocker les données\n",
    "- **matplotlib** à afficher les résultats\n"
   ]
  },
  {
   "cell_type": "markdown",
   "id": "47d03f04-bce7-45eb-ad35-d477924e3332",
   "metadata": {},
   "source": [
    "### Définition de la structure des données"
   ]
  },
  {
   "cell_type": "markdown",
   "id": "764ddfb3-35db-4372-bd7f-49855a6af4de",
   "metadata": {},
   "source": [
    "Comme nous devons trouver l’itinéraire le plus court entre une liste de villes, nous devons pouvoir garder cette information et connaitre la distance entre les Villles. Ceci est fait grâce à la classe `City` ci-dessous.\n",
    "\n",
    "**Exercice** : Complétez le code pour calculer la distance entre deux villes."
   ]
  },
  {
   "cell_type": "code",
   "execution_count": 2,
   "id": "168d0e9d-983b-4cbd-af65-2edd08585994",
   "metadata": {},
   "outputs": [],
   "source": [
    "class City:\n",
    "    def __init__(self, x, y):\n",
    "        self.x = x\n",
    "        self.y = y\n",
    "    \n",
    "    def distance(self, city):\n",
    "        xDis = abs(self.x - city.x)\n",
    "        yDis = abs(self.y - city.y)\n",
    "        # ToDo: à  completer !! (1 ligne de code)\n",
    "        distance = np.sqrt((xDis ** 2) + (yDis ** 2))\n",
    "        return distance\n",
    "    \n",
    "    def __repr__(self):\n",
    "        return \"(\" + str(self.x) + \",\" + str(self.y) + \")\""
   ]
  },
  {
   "cell_type": "markdown",
   "id": "583626fa-db35-4544-85eb-7c178216b3ef",
   "metadata": {},
   "source": [
    "----\n",
    "**Cellule de TEST**:  Si votre code fonctionne, la prochaine cellule devrait afficher **10.0**"
   ]
  },
  {
   "cell_type": "code",
   "execution_count": 3,
   "id": "164e22f1-d53a-494c-a76f-580a8dce69cc",
   "metadata": {},
   "outputs": [
    {
     "name": "stdout",
     "output_type": "stream",
     "text": [
      "La distance entre les deux villes de test vaut : 10.0\n"
     ]
    }
   ],
   "source": [
    "test_City_A = City(10, 100)\n",
    "test_City_B = City(16, 92)\n",
    "dist_test = test_City_A.distance(test_City_B)\n",
    "print(\"La distance entre les deux villes de test vaut :\", dist_test)"
   ]
  },
  {
   "cell_type": "markdown",
   "id": "cc68585c-d630-46b9-9458-8607aa230b17",
   "metadata": {},
   "source": [
    "<details>\n",
    "    <summary>Suggestion 1</summary>\n",
    "1. En python, <code>**</code>  est l'operateur puissance (exemple : <code>x = 3 ** 2</code> -> x vaut 9)\n",
    "</details>\n",
    "\n",
    "<details>\n",
    "    <summary>Suggestion 2</summary>\n",
    "2. utilisez la fonction <code>np.sqrt(number)</code> pour calculer la racine carrée\n",
    "</details>\n",
    "\n",
    "<details>\n",
    "    <summary>Suggestion 3</summary>\n",
    "3. Théorème de Pythagore...\n",
    "</details>\n",
    "\n",
    "-\n",
    "\n",
    "*donnez-vous votre langue au chat?* 👅🐱\n",
    "\n",
    "<details>\n",
    "    <summary>Solution</summary>\n",
    "<code>distance = np.sqrt((xDis ** 2) + (yDis ** 2))</code>\n",
    "</details>\n",
    "\n",
    "---"
   ]
  },
  {
   "cell_type": "markdown",
   "id": "2abee886-92ea-4da6-af08-f5d8aee1fcd1",
   "metadata": {},
   "source": [
    "## Fitness 💪"
   ]
  },
  {
   "cell_type": "markdown",
   "id": "8c4d8552-2eba-41b8-8be2-2d38581717cd",
   "metadata": {},
   "source": [
    "Nous devons être en mesure de comparer des solutions pour reconnaitre les bonnes de moins bonnes. Ceci est fait grâce à la classe `Fitness`.\n",
    "\n",
    "Dans notre cas, nous traiterons la fitness comme *l'inverse de la distance* de l'itinéraire.\n",
    "Nous voulons minimiser la distance de l'itinéraire ! Donc un score de fitness plus élevé est préférable !\n",
    "\n",
    "Rappel: sur la base de la règle n° 2 (voir section \"**Le Problème**\"), nous devons commencer et finir dans la même ville.Ce calcul supplémentaire est pris en compte à la ligne 13."
   ]
  },
  {
   "cell_type": "code",
   "execution_count": 4,
   "id": "cab25dbc-cd34-4b99-82a6-ea6ea71405b1",
   "metadata": {},
   "outputs": [],
   "source": [
    "class Fitness:\n",
    "    def __init__(self, route):\n",
    "        self.route = route\n",
    "        self.distance = 0\n",
    "        self.fitness= 0.0\n",
    "    \n",
    "    def routeDistance(self):\n",
    "        if self.distance ==0:\n",
    "            pathDistance = 0\n",
    "            for i in range(0, len(self.route)):\n",
    "                fromCity = self.route[i]\n",
    "                toCity = None\n",
    "                if i + 1 < len(self.route):\n",
    "                    toCity = self.route[i + 1]\n",
    "                else:\n",
    "                    toCity = self.route[0]\n",
    "                pathDistance += fromCity.distance(toCity)\n",
    "            self.distance = pathDistance\n",
    "        return self.distance\n",
    "    \n",
    "    def routeFitness(self):\n",
    "        if self.fitness == 0:\n",
    "            self.fitness = 1 / float(self.routeDistance())\n",
    "        return self.fitness"
   ]
  },
  {
   "cell_type": "markdown",
   "id": "7efce5c7-51e7-448e-b311-947b7794e69a",
   "metadata": {},
   "source": [
    "## Creation de la population"
   ]
  },
  {
   "cell_type": "markdown",
   "id": "998034c3-33da-457d-a90d-5d6fd8ea158a",
   "metadata": {
    "tags": []
   },
   "source": [
    "À cette étape nous devons définir notre « Population ». \n",
    "\n",
    "On peut voir une Population comme un ensemble de solutions possibles que, en évoluant au cours des générations, se rapprocheront toujours plus de la meilleure solution possible. \n",
    "\n",
    "Qu’est-ce que donc pour nous une \"solution\" ?\n",
    "\n",
    "1. Une distance très petite\n",
    "2. Une liste ordonnées des villes visitées (qui respecte les règles 1 et 2)\n",
    "3. Aucune idée, mais c'est où le T-Rex ?\n",
    "\n",
    "Clique sur `Réponse` ci-dessous pour valider votre choix\n",
    "<details>\n",
    "    <summary>Réponse</summary>\n",
    "- [x] Une liste ordonnées des villes visité (qui respecte les règles 1 et 2)\n",
    "</details>"
   ]
  },
  {
   "cell_type": "markdown",
   "id": "e611a0a2-b4a9-47de-987e-d4e55382d193",
   "metadata": {},
   "source": [
    "**Exercice**: completez le code suivant pour créer un Itinéraire (route) qui à partire d'une liste de ville (le type n'est pas important) retourne une liste aleatoire"
   ]
  },
  {
   "cell_type": "code",
   "execution_count": 5,
   "id": "3043fe03-6d56-4f17-a357-912d752ca14e",
   "metadata": {},
   "outputs": [],
   "source": [
    "def createRoute(cityList):\n",
    "    # ToDo: à  completer !!\n",
    "    route = random.sample(cityList, len(cityList))\n",
    "    return route"
   ]
  },
  {
   "cell_type": "markdown",
   "id": "5647adaf-9315-4c94-a846-46f3485e82f7",
   "metadata": {},
   "source": [
    "---\n",
    "**Cellule de TEST**:  Si votre code fonctionne, la prochaine cellule devrait retourne une liste qui contienne **TOUTES** les villes dans un ordre aléatoire et sans répetitions"
   ]
  },
  {
   "cell_type": "code",
   "execution_count": 6,
   "id": "5ae362d3-f90d-423d-b280-4be505e14a18",
   "metadata": {},
   "outputs": [
    {
     "name": "stdout",
     "output_type": "stream",
     "text": [
      "['Sion', 'Martigny', 'Brig', 'Visp', 'LeResteDuMonde', 'Sierre']\n"
     ]
    }
   ],
   "source": [
    "test_cityList = [\"Brig\", \"Visp\", \"Sierre\", \"Sion\", \"Martigny\", \"LeResteDuMonde\"]\n",
    "test_route = createRoute(test_cityList)\n",
    "print(test_route)"
   ]
  },
  {
   "cell_type": "markdown",
   "id": "7d9cdec0-0987-44d8-9214-cb29da160b54",
   "metadata": {},
   "source": [
    "<details>\n",
    "    <summary>Suggestion 1</summary>\n",
    "investiguez la fonction `random.sample()`\n",
    "</details>\n",
    "\n",
    "<details>\n",
    "    <summary>Suggestion 2</summary>\n",
    "testez len(cityList)\n",
    "</details>\n",
    "-\n",
    "\n",
    "*donnez-vous votre langue au chat?* 👅🐱\n",
    "\n",
    "<details>\n",
    "    <summary>Solution</summary>\n",
    "route = random.sample(cityList, len(cityList))\n",
    "</details>\n",
    "\n",
    "---"
   ]
  },
  {
   "cell_type": "code",
   "execution_count": 7,
   "id": "76a43e18-a1f0-4688-8e8d-aa0e43facbf8",
   "metadata": {},
   "outputs": [],
   "source": [
    "def initialPopulation(popSize, cityList):\n",
    "    population = []\n",
    "\n",
    "    for i in range(0, popSize):\n",
    "        population.append(createRoute(cityList))\n",
    "    return population"
   ]
  },
  {
   "cell_type": "markdown",
   "id": "a5dd846f-a3b3-41c7-88a1-4d3af40c5c93",
   "metadata": {},
   "source": [
    "Remarque : nous n'avons qu'à utiliser ces fonctions pour créer la population initiale. Les générations suivantes seront produites par *reproduction* et *mutation*."
   ]
  },
  {
   "cell_type": "markdown",
   "id": "d2ecdd94-236e-4c40-b739-c474cfcb2f1b",
   "metadata": {},
   "source": [
    "## Determiner le \"Fitness\""
   ]
  },
  {
   "cell_type": "markdown",
   "id": "8b3c9a13-d4d3-4528-8992-9eb042002558",
   "metadata": {},
   "source": [
    "bla bla"
   ]
  },
  {
   "cell_type": "code",
   "execution_count": 8,
   "id": "c44b77ce-def0-4543-95b2-931b7a6615fd",
   "metadata": {},
   "outputs": [],
   "source": [
    "def rankRoutes(population):\n",
    "    fitnessResults = {}\n",
    "    for i in range(0,len(population)):\n",
    "        fitnessResults[i] = Fitness(population[i]).routeFitness()\n",
    "    return sorted(fitnessResults.items(), key = operator.itemgetter(1), reverse = True)"
   ]
  },
  {
   "cell_type": "code",
   "execution_count": 9,
   "id": "ce758bed-f8c1-4a06-b1a5-ac93f4348f68",
   "metadata": {},
   "outputs": [],
   "source": [
    "def selection(popRanked, eliteSize):\n",
    "    selectionResults = []\n",
    "    df = pd.DataFrame(np.array(popRanked), columns=[\"Index\",\"Fitness\"])\n",
    "    df['cum_sum'] = df.Fitness.cumsum()\n",
    "    df['cum_perc'] = 100*df.cum_sum/df.Fitness.sum()\n",
    "    \n",
    "    for i in range(0, eliteSize):\n",
    "        selectionResults.append(popRanked[i][0])\n",
    "    for i in range(0, len(popRanked) - eliteSize):\n",
    "        pick = 100*random.random()\n",
    "        for i in range(0, len(popRanked)):\n",
    "            if pick <= df.iat[i,3]:\n",
    "                selectionResults.append(popRanked[i][0])\n",
    "                break\n",
    "    return selectionResults"
   ]
  },
  {
   "cell_type": "code",
   "execution_count": 10,
   "id": "cf238ac1-505b-482f-bff1-bda42848c343",
   "metadata": {},
   "outputs": [],
   "source": [
    "def matingPool(population, selectionResults):\n",
    "    matingpool = []\n",
    "    for i in range(0, len(selectionResults)):\n",
    "        index = selectionResults[i]\n",
    "        matingpool.append(population[index])\n",
    "    return matingpool"
   ]
  },
  {
   "cell_type": "markdown",
   "id": "296ef37a-0c37-4a53-a1be-375e3893b3dd",
   "metadata": {},
   "source": [
    "## Crossover"
   ]
  },
  {
   "cell_type": "markdown",
   "id": "02ec6e4f-7227-4f12-8087-e1cf88347ecb",
   "metadata": {},
   "source": [
    "bla bla"
   ]
  },
  {
   "cell_type": "code",
   "execution_count": 11,
   "id": "95195436-9773-4855-a1dc-74892ee037a2",
   "metadata": {},
   "outputs": [],
   "source": [
    "def breed(parent1, parent2):\n",
    "    child = []\n",
    "    childP1 = []\n",
    "    childP2 = []\n",
    "    \n",
    "    geneA = int(random.random() * len(parent1))\n",
    "    geneB = int(random.random() * len(parent1))\n",
    "    \n",
    "    startGene = min(geneA, geneB)\n",
    "    endGene = max(geneA, geneB)\n",
    "\n",
    "    for i in range(startGene, endGene):\n",
    "        childP1.append(parent1[i])\n",
    "        \n",
    "    childP2 = [item for item in parent2 if item not in childP1]\n",
    "\n",
    "    child = childP1 + childP2\n",
    "    return child"
   ]
  },
  {
   "cell_type": "code",
   "execution_count": 12,
   "id": "ca229640-28d0-4426-bc39-6cb670e502bf",
   "metadata": {},
   "outputs": [],
   "source": [
    "def breedPopulation(matingpool, eliteSize):\n",
    "    children = []\n",
    "    length = len(matingpool) - eliteSize\n",
    "    pool = random.sample(matingpool, len(matingpool))\n",
    "\n",
    "    for i in range(0,eliteSize):\n",
    "        children.append(matingpool[i])\n",
    "    \n",
    "    for i in range(0, length):\n",
    "        child = breed(pool[i], pool[len(matingpool)-i-1])\n",
    "        children.append(child)\n",
    "    return children"
   ]
  },
  {
   "cell_type": "markdown",
   "id": "6fb97dea-4af8-414c-a250-728cc4d9dec3",
   "metadata": {},
   "source": [
    "## Mutation"
   ]
  },
  {
   "cell_type": "markdown",
   "id": "0795b4f3-234d-4889-b6b1-e6cad240786b",
   "metadata": {},
   "source": [
    "bla bla"
   ]
  },
  {
   "cell_type": "code",
   "execution_count": 13,
   "id": "7ffb90d7-ac3c-4d01-9381-e58d49754a26",
   "metadata": {},
   "outputs": [],
   "source": [
    "def mutate(individual, mutationRate):\n",
    "    for swapped in range(len(individual)):\n",
    "        if(random.random() < mutationRate):\n",
    "            swapWith = int(random.random() * len(individual))\n",
    "            \n",
    "            city1 = individual[swapped]\n",
    "            city2 = individual[swapWith]\n",
    "            \n",
    "            individual[swapped] = city2\n",
    "            individual[swapWith] = city1\n",
    "    return individual"
   ]
  },
  {
   "cell_type": "code",
   "execution_count": 14,
   "id": "f20dbac0-db00-48f4-9da2-ccb8ef3b755b",
   "metadata": {},
   "outputs": [],
   "source": [
    "def mutatePopulation(population, mutationRate):\n",
    "    mutatedPop = []\n",
    "    \n",
    "    for ind in range(0, len(population)):\n",
    "        mutatedInd = mutate(population[ind], mutationRate)\n",
    "        mutatedPop.append(mutatedInd)\n",
    "    return mutatedPop"
   ]
  },
  {
   "cell_type": "markdown",
   "id": "3ac46466-7d5c-4e99-b1a8-cd1a4a5d7e00",
   "metadata": {},
   "source": [
    "## Repeat"
   ]
  },
  {
   "cell_type": "markdown",
   "id": "23d470cc-17be-41c1-a32f-8285bb9eadb1",
   "metadata": {},
   "source": [
    "bla bla"
   ]
  },
  {
   "cell_type": "code",
   "execution_count": 15,
   "id": "b5f3172d-f9c9-410c-9164-8f8f2195a7c6",
   "metadata": {},
   "outputs": [],
   "source": [
    "def nextGeneration(currentGen, eliteSize, mutationRate):\n",
    "    popRanked = rankRoutes(currentGen)\n",
    "    selectionResults = selection(popRanked, eliteSize)\n",
    "    matingpool = matingPool(currentGen, selectionResults)\n",
    "    children = breedPopulation(matingpool, eliteSize)\n",
    "    nextGeneration = mutatePopulation(children, mutationRate)\n",
    "    return nextGeneration"
   ]
  },
  {
   "cell_type": "markdown",
   "id": "f4b45d1f-270b-4b53-b9b6-2415eaafdf7e",
   "metadata": {},
   "source": [
    "# Evolution !"
   ]
  },
  {
   "cell_type": "markdown",
   "id": "0bcc221b-1cda-40e9-99b5-9c324fceca46",
   "metadata": {},
   "source": [
    "bla bla"
   ]
  },
  {
   "cell_type": "code",
   "execution_count": 16,
   "id": "766ad482-4b42-4ec5-9d2f-b58ae4f43f47",
   "metadata": {},
   "outputs": [],
   "source": [
    "def geneticAlgorithm(population, popSize, eliteSize, mutationRate, generations):\n",
    "    pop = initialPopulation(popSize, population)\n",
    "    print(\"Initial distance: \" + str(1 / rankRoutes(pop)[0][1]))\n",
    "    \n",
    "    for i in range(0, generations):\n",
    "        pop = nextGeneration(pop, eliteSize, mutationRate)\n",
    "    \n",
    "    print(\"Final distance: \" + str(1 / rankRoutes(pop)[0][1]))\n",
    "    bestRouteIndex = rankRoutes(pop)[0][0]\n",
    "    bestRoute = pop[bestRouteIndex]\n",
    "    return bestRoute"
   ]
  },
  {
   "cell_type": "code",
   "execution_count": null,
   "id": "0aa8daca-b77f-4118-84ee-1200338bc0cf",
   "metadata": {},
   "outputs": [],
   "source": []
  },
  {
   "cell_type": "code",
   "execution_count": 17,
   "id": "d55e25c1-6bdb-4eb7-a3e4-f770c62bfb3f",
   "metadata": {},
   "outputs": [],
   "source": [
    "cityList = []\n",
    "\n",
    "for i in range(0,25):\n",
    "    cityList.append(City(x=int(random.random() * 200), y=int(random.random() * 200)))"
   ]
  },
  {
   "cell_type": "code",
   "execution_count": 18,
   "id": "75f4bdac-a45b-4b0e-9889-73fb389e0042",
   "metadata": {},
   "outputs": [
    {
     "name": "stdout",
     "output_type": "stream",
     "text": [
      "Initial distance: 1877.396782803797\n",
      "Final distance: 847.9566853162548\n"
     ]
    },
    {
     "data": {
      "text/plain": [
       "[(125,13),\n",
       " (118,56),\n",
       " (103,56),\n",
       " (85,84),\n",
       " (79,55),\n",
       " (56,56),\n",
       " (46,3),\n",
       " (13,20),\n",
       " (32,100),\n",
       " (47,103),\n",
       " (27,135),\n",
       " (9,150),\n",
       " (27,170),\n",
       " (68,136),\n",
       " (86,127),\n",
       " (112,187),\n",
       " (116,181),\n",
       " (161,178),\n",
       " (173,177),\n",
       " (173,169),\n",
       " (164,145),\n",
       " (160,147),\n",
       " (146,146),\n",
       " (160,89),\n",
       " (184,72)]"
      ]
     },
     "execution_count": 18,
     "metadata": {},
     "output_type": "execute_result"
    }
   ],
   "source": [
    "geneticAlgorithm(population=cityList, popSize=100, eliteSize=20, mutationRate=0.01, generations=500)"
   ]
  },
  {
   "cell_type": "markdown",
   "id": "c335cc86-ae76-4bfe-865c-b795c658dce4",
   "metadata": {},
   "source": [
    "## Plot (Optional)"
   ]
  },
  {
   "cell_type": "code",
   "execution_count": 19,
   "id": "9e7bc172-7c11-4a6b-9462-4df93555e214",
   "metadata": {},
   "outputs": [],
   "source": [
    "def geneticAlgorithmPlot(population, popSize, eliteSize, mutationRate, generations):\n",
    "    pop = initialPopulation(popSize, population)\n",
    "    progress = []\n",
    "    progress.append(1 / rankRoutes(pop)[0][1])\n",
    "    \n",
    "    for i in range(0, generations):\n",
    "        pop = nextGeneration(pop, eliteSize, mutationRate)\n",
    "        progress.append(1 / rankRoutes(pop)[0][1])\n",
    "    \n",
    "    plt.plot(progress)\n",
    "    plt.ylabel('Distance')\n",
    "    plt.xlabel('Generation')\n",
    "    plt.show()"
   ]
  },
  {
   "cell_type": "code",
   "execution_count": 20,
   "id": "da33ae8b-b468-44e9-b99c-f6ef5fd9fe5f",
   "metadata": {},
   "outputs": [
    {
     "data": {
      "image/png": "[encoded data removed]",
      "text/plain": [
       "<Figure size 432x288 with 1 Axes>"
      ]
     },
     "metadata": {
      "needs_background": "light"
     },
     "output_type": "display_data"
    }
   ],
   "source": [
    "geneticAlgorithmPlot(population=cityList, popSize=100, eliteSize=20, mutationRate=0.01, generations=500)"
   ]
  },
  {
   "cell_type": "markdown",
   "id": "49644a50-82c4-4e10-abd4-b740e86149c6",
   "metadata": {},
   "source": [
    "## References"
   ]
  },
  {
   "cell_type": "markdown",
   "id": "a6ffdecf-942e-4e63-b055-72b5973b84db",
   "metadata": {},
   "source": [
    "1. Article originale: [Evolution of a salesman](https://towardsdatascience.com/evolution-of-a-salesman-a-complete-genetic-algorithm-tutorial-for-python-6fe5d2b3ca35)\n",
    "2. Algorithmes génétiques - Wikipedia: [fr.wikipedia.org/wiki/Algorithme_génétique](https://fr.wikipedia.org/wiki/Algorithme_g%C3%A9n%C3%A9tique)\n",
    "3. Problème du voyageur de commerce - Wikipedia: [fr.wikipedia.org/wiki/Problème_du_voyageur_de_commerce](https://fr.wikipedia.org/wiki/Probl%C3%A8me_du_voyageur_de_commerce)"
   ]
  },
  {
   "cell_type": "code",
   "execution_count": null,
   "id": "33c46898-9467-4945-b833-b947f5b9a386",
   "metadata": {},
   "outputs": [],
   "source": []
  },
  {
   "cell_type": "code",
   "execution_count": null,
   "id": "1b80f562-f28d-45af-b7e5-e52acc833cac",
   "metadata": {},
   "outputs": [],
   "source": []
  }
 ],
 "metadata": {
  "kernelspec": {
   "display_name": "Python 3 (ipykernel)",
   "language": "python",
   "name": "python3"
  },
  "language_info": {
   "codemirror_mode": {
    "name": "ipython",
    "version": 3
   },
   "file_extension": ".py",
   "mimetype": "text/x-python",
   "name": "python",
   "nbconvert_exporter": "python",
   "pygments_lexer": "ipython3",
   "version": "3.9.7"
  }
 },
 "nbformat": 4,
 "nbformat_minor": 5
}
