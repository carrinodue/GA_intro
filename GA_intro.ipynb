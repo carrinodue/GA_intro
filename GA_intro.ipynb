{
 "cells": [
  {
   "cell_type": "markdown",
   "id": "4b782829-0445-4043-881f-7530fd33f24e",
   "metadata": {},
   "source": [
    "# Algorithmes Génétiques"
   ]
  },
  {
   "cell_type": "markdown",
   "id": "4f6e647d-f056-40b2-8a67-cd45ded0ef41",
   "metadata": {},
   "source": [
    "![alt text](pics/dna-Genetic-Algorithm_3.jpg \"Algorithmes Génétiques\")\n",
    "\n",
    "*(source de l'image: [pixabay](https://pixabay.com/de/illustrations/dna-evolution-dinosaurier-roboter-3778639/))*"
   ]
  },
  {
   "cell_type": "markdown",
   "id": "bd055cde-4095-42d2-b6ae-c6f80582515f",
   "metadata": {},
   "source": [
    "## Le problème du voyageur de commerce (*travelling salesman problem*)"
   ]
  },
  {
   "cell_type": "markdown",
   "id": "7c5a4fdb-3411-4ff4-8f35-dd44cf7328ea",
   "metadata": {},
   "source": [
    "### Le problème à resoudre\n",
    "\n",
    "Le problème du voyageur de commerce, ou *problème du commis voyageur*, est un problème d'optimisation qui consiste à déterminer, étant donné une liste de villes et les distances entre toutes les paires de villes, le plus court circuit qui passe par chaque ville une et une seule fois (source: [fr.wikipedia.org](https://fr.wikipedia.org/wiki/Probl%C3%A8me_du_voyageur_de_commerce)).\n",
    "\n",
    "Les **règles** sont donc les suivantes :\n",
    "1. Chaque ville doit être visitée exactement une fois\n",
    "2. Le voyageur de commerce doit retourner à la ville de départ (la distance totale doit être calculée en conséquence !) \n",
    "\n",
    "![alt text](pics/TSP.png \"Travelling salesman problem\")\n",
    "\n",
    "*(source de l'image: [physics.aps.org](https://physics.aps.org/articles/v10/s32))*\n",
    "\n",
    "Il parait simple, non ?\n",
    "\n",
    "Malgré la simplicité de l’énoncé, aujourd'hui **on ne connaît pas** d'algorithme permettant de trouver une solution exacte rapidement et qui fonctionne dans tous les cas !\n",
    "\n",
    "\n",
    "**GOAL:** utiliser une algorithme génétique per trouver une bonne solution au problème !\n"
   ]
  },
  {
   "cell_type": "markdown",
   "id": "24daf170-8ae7-45b8-9007-b7778b4ccf58",
   "metadata": {},
   "source": [
    "### Algorithme génétiques Vs. le problème du voyageur de commerce\n",
    "\n",
    "Commençons par les **définitions** d’un algorithme évolutionnaire reformulées dans le cadre du problème du voyageur de commerce :\n",
    "- Gène : une ville (représentée par des coordonnées (x, y))\n",
    "- Individu (alias \"chromosome\") : un chemin remplissant les conditions ci-dessus (il passe par toutes les villes exactement une fois, etc.)\n",
    "- Population : une collection de chemins possibles (c'est-à-dire une collection d'individus)\n",
    "- Parents : deux parcours qui se combinent pour créer un nouveau parcours\n",
    "- Sélection : opération qui nous permettra de choisir une collection de parents qui sont utilisés pour créer notre prochaine population (créant ainsi la prochaine génération de routes)\n",
    "- Fitness : une fonction qui nous indique à quel point chaque itinéraire est bon (dans notre cas, la longueur de la distante, la plus courte, le mieux)\n",
    "- Croisement : opération qui nous permettre de mélanger deux individus (les parents) pour obtenir deux nouveaux individus (les enfants) qui remplaceront leurs parents dans la génération suivante\n",
    "- Mutation : un moyen d'introduire des variations dans notre population. Dans notre exemple, on échangera au hasard deux villes sur un itinéraire\n",
    "- Élitisme : un moyen de transmettre les meilleurs individus à la génération suivante (sans croisement ni mutations)\n",
    "\n",
    "**Structure de l'algorithme** :\n",
    "\n",
    "0. Importation des outils et création des classes (qui nous seront utiles par la suite)\n",
    "1. Création de la population initiale (Génération 0)\n",
    "2. Calcul de la fonction de fitness (pour classer les individus existants)\n",
    "3. Sélectionner les parents (mating pool)\n",
    "4. Croisement\n",
    "5. Mutation\n",
    "6. Repeat !"
   ]
  },
  {
   "cell_type": "markdown",
   "id": "1c78aa39-b700-40d3-966c-ddbf68f30400",
   "metadata": {},
   "source": [
    "# On commence !"
   ]
  },
  {
   "cell_type": "markdown",
   "id": "44a60e1f-1080-49cd-985c-6221202a31f6",
   "metadata": {},
   "source": [
    "## 0. Importation des outils et création des classes"
   ]
  },
  {
   "cell_type": "markdown",
   "id": "f4a4bdbb-de8a-4fe3-b864-92739f31e07c",
   "metadata": {},
   "source": [
    "### Importation des outils"
   ]
  },
  {
   "cell_type": "markdown",
   "id": "95c29940-918e-4d47-b9e8-03bb17310cc7",
   "metadata": {},
   "source": [
    "Nous commençons par importer les outils qui nous aideront à implémenter notre algorithme génétique"
   ]
  },
  {
   "cell_type": "code",
   "execution_count": 1,
   "id": "b135bfa9-53ee-4d3b-b74a-126ed11cb7fa",
   "metadata": {},
   "outputs": [],
   "source": [
    "import numpy as np, random, operator, pandas as pd, matplotlib.pyplot as plt"
   ]
  },
  {
   "cell_type": "markdown",
   "id": "dd3fd391-2018-4cb5-8925-9e717e7fa33c",
   "metadata": {},
   "source": [
    "Pour les plus curieux :\n",
    "- **numpy** nous aidera à faire les calcules\n",
    "- **pandas** nous aidera à stocker les données\n",
    "- **matplotlib** nous aidera à afficher les résultats\n"
   ]
  },
  {
   "cell_type": "markdown",
   "id": "47d03f04-bce7-45eb-ad35-d477924e3332",
   "metadata": {},
   "source": [
    "### Définition de la structure des données"
   ]
  },
  {
   "cell_type": "markdown",
   "id": "764ddfb3-35db-4372-bd7f-49855a6af4de",
   "metadata": {},
   "source": [
    "Comme nous devons trouver l’itinéraire le plus court entre une liste de villes, nous devons pouvoir garder cette information quelque part et connaître la distance entre les Villles. Ceci est fait grâce à la classe `City` ci-dessous.\n",
    "\n",
    "Entre autres, cette classe nous offre la méthode pour calculer la distance entre deux villes. Pour simplicité, on calculera une simple distance à vol d’oiseau (distance euclidienne) entre les deux villes. \n",
    "\n",
    "**Exercice 1** : Complétez le code pour calculer la distance entre deux villes."
   ]
  },
  {
   "cell_type": "code",
   "execution_count": 2,
   "id": "168d0e9d-983b-4cbd-af65-2edd08585994",
   "metadata": {},
   "outputs": [],
   "source": [
    "class City:\n",
    "    def __init__(self, x, y, name=\"default_name\"):\n",
    "        self.x = x\n",
    "        self.y = y\n",
    "        self.name = name\n",
    "    \n",
    "    def distance(self, city):\n",
    "        xDis = abs(self.x - city.x)\n",
    "        yDis = abs(self.y - city.y)\n",
    "        # ToDo: à  completer !! (1 ligne de code)\n",
    "        distance = np.sqrt((xDis ** 2) + (yDis ** 2))\n",
    "        return distance\n",
    "    \n",
    "    def __repr__(self):\n",
    "        return \"(\" + str(self.x) + \",\" + str(self.y) + \")\""
   ]
  },
  {
   "cell_type": "markdown",
   "id": "583626fa-db35-4544-85eb-7c178216b3ef",
   "metadata": {},
   "source": [
    "----\n",
    "**Cellule de TEST**:  Si votre code fonctionne, la prochaine cellule devrait afficher **10.0**"
   ]
  },
  {
   "cell_type": "code",
   "execution_count": 3,
   "id": "164e22f1-d53a-494c-a76f-580a8dce69cc",
   "metadata": {},
   "outputs": [
    {
     "name": "stdout",
     "output_type": "stream",
     "text": [
      "La distance entre les deux villes de test vaut : 10.0\n"
     ]
    }
   ],
   "source": [
    "test_City_A = City(10, 100)\n",
    "test_City_B = City(16, 92)\n",
    "dist_test = test_City_A.distance(test_City_B)\n",
    "print(\"La distance entre les deux villes de test vaut :\", dist_test)"
   ]
  },
  {
   "cell_type": "markdown",
   "id": "cc68585c-d630-46b9-9458-8607aa230b17",
   "metadata": {},
   "source": [
    "<details>\n",
    "    <summary>Suggestion 1</summary>\n",
    "1. En python, <code>**</code>  est l'operateur puissance (exemple : <code>x = 3 ** 2</code> -> x vaut 9)\n",
    "</details>\n",
    "\n",
    "<details>\n",
    "    <summary>Suggestion 2</summary>\n",
    "2. utilisez la fonction <code>np.sqrt(number)</code> pour calculer la racine carrée\n",
    "</details>\n",
    "\n",
    "<details>\n",
    "    <summary>Suggestion 3</summary>\n",
    "3. Théorème de Pythagore...\n",
    "</details>\n",
    "\n",
    "-\n",
    "\n",
    "*donnez-vous votre langue au chat?* 👅🐱\n",
    "\n",
    "<details>\n",
    "    <summary>Solution</summary>\n",
    "<code>distance = np.sqrt((xDis ** 2) + (yDis ** 2))</code>\n",
    "</details>\n",
    "\n",
    "---"
   ]
  },
  {
   "cell_type": "markdown",
   "id": "2abee886-92ea-4da6-af08-f5d8aee1fcd1",
   "metadata": {},
   "source": [
    "### Fonction de \"Fitness\" 💪"
   ]
  },
  {
   "cell_type": "markdown",
   "id": "8c4d8552-2eba-41b8-8be2-2d38581717cd",
   "metadata": {},
   "source": [
    "Nous devons être en mesure de comparer des solutions pour reconnaître les bonnes de moins bonnes. Ceci est fait grâce à la classe `Fitness` ci-dessous.\n",
    "\n",
    "Nous voulons trouver le parcours le plus court. Nous traiterons donc la fonction de fitness comme *l'**inverse** de la distance* du chemin analysé (plus la distance et grand, plus la fonction de fitness nous retournera une valeur petite).\n",
    "Donc un score de fitness plus élevé est préférable !\n",
    "\n",
    "Comme cette classe est relativement complexe nous vous fournissons le code. \n",
    "\n",
    "**Exercice 2** : essayez de comprendre le code de la classe Fitness (*si besoin, les explications sont en dessous du code*).\n"
   ]
  },
  {
   "cell_type": "code",
   "execution_count": 4,
   "id": "cab25dbc-cd34-4b99-82a6-ea6ea71405b1",
   "metadata": {},
   "outputs": [],
   "source": [
    "class Fitness:\n",
    "    def __init__(self, route):\n",
    "        self.route = route\n",
    "        self.distance = 0\n",
    "        self.fitness= 0.0\n",
    "    \n",
    "    def routeDistance(self):\n",
    "        if self.distance ==0:\n",
    "            pathDistance = 0\n",
    "            for i in range(0, len(self.route)):\n",
    "                fromCity = self.route[i]\n",
    "                toCity = None\n",
    "                if i + 1 < len(self.route):\n",
    "                    toCity = self.route[i + 1]\n",
    "                else:\n",
    "                    toCity = self.route[0]\n",
    "                pathDistance += fromCity.distance(toCity)\n",
    "            self.distance = pathDistance\n",
    "        return self.distance\n",
    "    \n",
    "    def routeFitness(self):\n",
    "        if self.fitness == 0:\n",
    "            self.fitness = 1 / float(self.routeDistance())\n",
    "        return self.fitness"
   ]
  },
  {
   "cell_type": "markdown",
   "id": "077dd348-3530-43ad-9f0b-809498e3d80c",
   "metadata": {},
   "source": [
    "<details>\n",
    "    <summary>Explication</summary>\n",
    "    \n",
    "Le principe est quand-même très simple. \n",
    "- La méthode `routeDistance()` somme, l’une après l’autre, les distances entre les villes rencontrer sur un parcours. Ceci est fait grâce à la méthode que vous venez de compléter. \n",
    "- La méthode `routeDistance()` inverse la valeur ainsi calculée ( `1 / float(self.routeDistance())` ).\n",
    "\n",
    "\n",
    "Rappel : sur la base de la règle n° 2 (voir section \"**Le Problème**\"), nous devons commencer et finir dans la même ville. Ce calcul supplémentaire est pris en compte par les instructions\n",
    "\n",
    "```\n",
    "if i + 1 < len(self.route):\n",
    "    toCity = self.route[i + 1]\n",
    "else:\n",
    "    toCity = self.route[0]\n",
    "```\n",
    "    \n",
    "</details>\n",
    "\n",
    "---"
   ]
  },
  {
   "cell_type": "markdown",
   "id": "7efce5c7-51e7-448e-b311-947b7794e69a",
   "metadata": {},
   "source": [
    "## 1. Création de la population initiale"
   ]
  },
  {
   "cell_type": "markdown",
   "id": "998034c3-33da-457d-a90d-5d6fd8ea158a",
   "metadata": {
    "tags": []
   },
   "source": [
    "À cette étape nous devons définir notre « Population ». \n",
    "\n",
    "On peut voir une Population comme un ensemble de solutions possibles que, en évoluant au cours des générations, se rapprocheront toujours plus de la meilleure solution possible. \n",
    "\n",
    "**Exercice 3** : Qu’est-ce que donc pour nous une \"solution\" ?\n",
    "\n",
    "1. Une distance très petite\n",
    "2. Une liste ordonnées des villes visitées (qui respecte les règles 1 et 2)\n",
    "3. Aucune idée, mais c'est où le T-Rex ?\n",
    "\n",
    "Clique sur `Réponse` ci-dessous pour valider votre choix\n",
    "<details>\n",
    "    <summary>Réponse</summary>\n",
    "- [x] Une liste ordonnées des villes visité (qui respecte les règles 1 et 2)\n",
    "</details>\n",
    "\n",
    "---"
   ]
  },
  {
   "cell_type": "markdown",
   "id": "e611a0a2-b4a9-47de-987e-d4e55382d193",
   "metadata": {},
   "source": [
    "**Exercice 4** : completez le code suivant pour créer un Itinéraire (route) qui à partire d'une liste de ville (le type n'est pas important) retourne une liste aleatoire"
   ]
  },
  {
   "cell_type": "code",
   "execution_count": 5,
   "id": "3043fe03-6d56-4f17-a357-912d752ca14e",
   "metadata": {},
   "outputs": [],
   "source": [
    "def createRoute(cityList):\n",
    "    # ToDo: à  completer !!\n",
    "    route = random.sample(cityList, len(cityList))\n",
    "    return route"
   ]
  },
  {
   "cell_type": "markdown",
   "id": "5647adaf-9315-4c94-a846-46f3485e82f7",
   "metadata": {},
   "source": [
    "---\n",
    "**Cellule de TEST**:  Si votre code fonctionne, la prochaine cellule devrait retourne une liste qui contienne **TOUTES** les villes dans un ordre aléatoire et sans répetitions"
   ]
  },
  {
   "cell_type": "code",
   "execution_count": 6,
   "id": "5ae362d3-f90d-423d-b280-4be505e14a18",
   "metadata": {},
   "outputs": [
    {
     "name": "stdout",
     "output_type": "stream",
     "text": [
      "['Martigny', 'Sion', 'Brig', 'Sierre', 'LeResteDuMonde', 'Visp']\n"
     ]
    }
   ],
   "source": [
    "test_cityList = [\"Brig\", \"Visp\", \"Sierre\", \"Sion\", \"Martigny\", \"LeResteDuMonde\"]\n",
    "test_route = createRoute(test_cityList)\n",
    "print(test_route)"
   ]
  },
  {
   "cell_type": "markdown",
   "id": "7d9cdec0-0987-44d8-9214-cb29da160b54",
   "metadata": {},
   "source": [
    "<details>\n",
    "    <summary>Suggestion 1</summary>\n",
    "    \n",
    "investiguez la fonction `random.sample()` par exemple [ici](https://www.geeksforgeeks.org/python-random-sample-function/)\n",
    "</details>\n",
    "\n",
    "<details>\n",
    "    <summary>Suggestion 2</summary>\n",
    "\n",
    "    testez : len(cityList)\n",
    "</details>\n",
    "\n",
    "-\n",
    "\n",
    "*donnez-vous votre langue au chat?* 👅🐱\n",
    "\n",
    "<details>\n",
    "    <summary>Solution</summary>\n",
    "    \n",
    "`route = random.sample(cityList, len(cityList))`\n",
    "</details>\n",
    "\n",
    "---"
   ]
  },
  {
   "cell_type": "code",
   "execution_count": 7,
   "id": "76a43e18-a1f0-4688-8e8d-aa0e43facbf8",
   "metadata": {},
   "outputs": [],
   "source": [
    "def initialPopulation(popSize, cityList):\n",
    "    population = []\n",
    "\n",
    "    for i in range(0, popSize):\n",
    "        population.append(createRoute(cityList))\n",
    "    return population"
   ]
  },
  {
   "cell_type": "markdown",
   "id": "a5dd846f-a3b3-41c7-88a1-4d3af40c5c93",
   "metadata": {},
   "source": [
    "Remarque : nous n'avons qu'à utiliser ces fonctions pour créer la population initiale. Les générations suivantes seront produites par *reproduction* et *mutation*."
   ]
  },
  {
   "cell_type": "markdown",
   "id": "d2ecdd94-236e-4c40-b739-c474cfcb2f1b",
   "metadata": {},
   "source": [
    "## 2. Calcul de la fonction de fitness"
   ]
  },
  {
   "cell_type": "markdown",
   "id": "8b3c9a13-d4d3-4528-8992-9eb042002558",
   "metadata": {},
   "source": [
    "C’est le moment de passer à la deuxième étape. \n",
    "\n",
    "La fonction ` rankRoutes(population)` retourne les individus de manière ordonnée du meilleure ou pire car `reverse = true`. Ceci grâce à la classe `Fitness` (défini plus haut).\n",
    "\n",
    "\n"
   ]
  },
  {
   "cell_type": "code",
   "execution_count": 8,
   "id": "c44b77ce-def0-4543-95b2-931b7a6615fd",
   "metadata": {},
   "outputs": [],
   "source": [
    "def rankRoutes(population):\n",
    "    fitnessResults = {}\n",
    "    for i in range(0,len(population)):\n",
    "        fitnessResults[i] = Fitness(population[i]).routeFitness()\n",
    "    return sorted(fitnessResults.items(), key = operator.itemgetter(1), reverse = True)"
   ]
  },
  {
   "cell_type": "markdown",
   "id": "be1b4b79-6569-4d8e-ad7d-19517382d288",
   "metadata": {},
   "source": [
    "## 3. Sélectionner les parents"
   ]
  },
  {
   "cell_type": "markdown",
   "id": "701df13c-aec9-44aa-9971-389f4aabf18f",
   "metadata": {},
   "source": [
    "La fonction `selection (popRanked, eliteSize)` sauvegarde les « élites » dans une liste et sélectionne les autres individus avec une probabilité qui dépende de leur fitness (on fait ce qu’on appelle une « Sélection proportionnelle »"
   ]
  },
  {
   "cell_type": "code",
   "execution_count": 9,
   "id": "ce758bed-f8c1-4a06-b1a5-ac93f4348f68",
   "metadata": {},
   "outputs": [],
   "source": [
    "def selection(popRanked, eliteSize):\n",
    "    selectionResults = []\n",
    "    df = pd.DataFrame(np.array(popRanked), columns=[\"Index\",\"Fitness\"])\n",
    "    df['cum_sum'] = df.Fitness.cumsum()\n",
    "    df['cum_perc'] = 100*df.cum_sum/df.Fitness.sum()\n",
    "    \n",
    "    for i in range(0, eliteSize):\n",
    "        selectionResults.append(popRanked[i][0])\n",
    "    for i in range(0, len(popRanked) - eliteSize):\n",
    "        pick = 100*random.random()\n",
    "        for i in range(0, len(popRanked)):\n",
    "            if pick <= df.iat[i,3]:\n",
    "                selectionResults.append(popRanked[i][0])\n",
    "                break\n",
    "    return selectionResults"
   ]
  },
  {
   "cell_type": "markdown",
   "id": "927f3ad5-38cf-4cca-b699-fdb346d1cab5",
   "metadata": {},
   "source": [
    "Les individus sélectionnés seront les parents de la nouvelle génération. Dans la fonction ci-dessous, nous créons un *mating pool* (un pool d'accouplement) à partir de la fonction de sélection.\n",
    "Le but est d’extraire les individus sélectionnés de notre population grâce aux IDs.\n",
    "\n",
    "**Exercice 5** : \n",
    "- `population` contient l’ensemble des individus\n",
    "- `selectionResult` contient les individus choisis par notre algorithme de sélection\n",
    "\n",
    "Complétez le code ci-dessous pour prendre de la population les éléments sélectionnées auparavant et les ajouter (*append*) à la liste vide `matingpool = []`\n"
   ]
  },
  {
   "cell_type": "code",
   "execution_count": 10,
   "id": "cf238ac1-505b-482f-bff1-bda42848c343",
   "metadata": {},
   "outputs": [],
   "source": [
    "def matingPool(population, selectionResults):\n",
    "    matingpool = []\n",
    "    for i in range(0, len(selectionResults)):\n",
    "        # ToDo: à  completer !!\n",
    "        index = selectionResults[i]\n",
    "        matingpool.append(population[index])\n",
    "    return matingpool"
   ]
  },
  {
   "cell_type": "markdown",
   "id": "795c8c62-737f-4378-91ff-d81130f23d46",
   "metadata": {},
   "source": [
    "----\n",
    "**Cellule de TEST**:  Si votre code fonctionne, la prochaine cellule devrait afficher *environ* **42** ou **80**"
   ]
  },
  {
   "cell_type": "code",
   "execution_count": 11,
   "id": "26ad631e-9960-46a0-8b43-3c4e84cc7fac",
   "metadata": {},
   "outputs": [
    {
     "name": "stdout",
     "output_type": "stream",
     "text": [
      "42.049968789001575\n"
     ]
    }
   ],
   "source": [
    "test_cityList = []\n",
    "test_cityList.append(City(x=0, y=0, name=\"City A\"))\n",
    "test_cityList.append(City(x=0, y=1, name=\"City B\"))\n",
    "test_cityList.append(City(x=20, y=1, name=\"City C\"))\n",
    "test_cityList.append(City(x=20, y=0, name=\"City D\"))\n",
    "    \n",
    "    \n",
    "population_Test = initialPopulation(1000, test_cityList)\n",
    "selectionResults_Test = [0]\n",
    "mat_pool_test = matingPool(population_Test, selectionResults_Test)\n",
    "print(1/Fitness(mat_pool_test[0]).routeFitness())\n",
    "\n"
   ]
  },
  {
   "cell_type": "markdown",
   "id": "144453d4-504f-407d-8f3f-d9081f7e7f46",
   "metadata": {},
   "source": [
    "<details>\n",
    "    <summary>Suggestion 1</summary>\n",
    "    \n",
    "`index = selectionResults[i]`\n",
    "</details>\n",
    "\n",
    "<details>\n",
    "    <summary>Suggestion 2</summary>\n",
    "\n",
    "`matingpool.append(???)`\n",
    "</details>\n",
    "\n",
    "-\n",
    "\n",
    "*donnez-vous votre langue au chat?* 👅🐱\n",
    "\n",
    "<details>\n",
    "    <summary>Solution</summary>\n",
    "<code>index = selectionResults[i]\n",
    "matingpool.append(population[index])</code>\n",
    "\n",
    "</details>\n",
    "\n",
    "---"
   ]
  },
  {
   "cell_type": "markdown",
   "id": "296ef37a-0c37-4a53-a1be-375e3893b3dd",
   "metadata": {},
   "source": [
    "## 4. Croisement"
   ]
  },
  {
   "cell_type": "markdown",
   "id": "02ec6e4f-7227-4f12-8087-e1cf88347ecb",
   "metadata": {},
   "source": [
    "Les fonctions `breed` et `breedPopulation` ci-dessous implémentent le croisement.\n",
    "\n",
    "Comme chaque ville doit être visitée exactement une fois et la ville de départ et doit être également la dernière ville visitée, il faut implémenter une fonction de crossover particulière. \n",
    "\n",
    "Ici, on utilise une méthode appelée « croisement ordonnée » (*ordered crossover*). Ceci permet de mixer les villes visitées par les deux parents de manière aléatoire sans avoir des répétitions. Le principe est le suivant :\n",
    "- on sélection au hasard un sous-ensemble de villes visitées à la suite du premier parent.\n",
    "- cette sélection fera partie du génome du fis\n",
    "- on remplissons le reste de la route avec les villes du deuxième parent dans l'ordre dans lequel elles apparaissent, sans dupliquer aucune ville \n",
    "\n",
    "Exemple : \n",
    "\n",
    "| Individu | Génome |\n",
    "| ----------- | ----------- |\n",
    "| Premier parent | Ville A, **Ville C**, **Ville D**, Ville B, Ville E |\n",
    "| Deuxième parent | Ville B, Ville D, Ville E, Ville C, Ville A |\n",
    "| Fis | Ville B, **Ville C, Ville D**, Ville E, Ville A |\n",
    "\n",
    "En **gras**, les gènes sélectionnés du premier parent et transmis au fis (le reste vient du deuxème parent de manière ordonnée)\n",
    "\n"
   ]
  },
  {
   "cell_type": "code",
   "execution_count": 12,
   "id": "95195436-9773-4855-a1dc-74892ee037a2",
   "metadata": {},
   "outputs": [],
   "source": [
    "def breed(parent1, parent2):\n",
    "    child = []\n",
    "    childP1 = []\n",
    "    childP2 = []\n",
    "    \n",
    "    geneA = int(random.random() * len(parent1))\n",
    "    geneB = int(random.random() * len(parent1))\n",
    "    \n",
    "    startGene = min(geneA, geneB)\n",
    "    endGene = max(geneA, geneB)\n",
    "\n",
    "    for i in range(startGene, endGene):\n",
    "        childP1.append(parent1[i])\n",
    "        \n",
    "    childP2 = [item for item in parent2 if item not in childP1]\n",
    "\n",
    "    child = childP1 + childP2\n",
    "    return child"
   ]
  },
  {
   "cell_type": "code",
   "execution_count": 13,
   "id": "ca229640-28d0-4426-bc39-6cb670e502bf",
   "metadata": {},
   "outputs": [],
   "source": [
    "def breedPopulation(matingpool, eliteSize):\n",
    "    children = []\n",
    "    length = len(matingpool) - eliteSize\n",
    "    pool = random.sample(matingpool, len(matingpool))\n",
    "\n",
    "    for i in range(0,eliteSize):\n",
    "        children.append(matingpool[i])\n",
    "    \n",
    "    for i in range(0, length):\n",
    "        child = breed(pool[i], pool[len(matingpool)-i-1])\n",
    "        children.append(child)\n",
    "    return children"
   ]
  },
  {
   "cell_type": "markdown",
   "id": "6fb97dea-4af8-414c-a250-728cc4d9dec3",
   "metadata": {},
   "source": [
    "## 5. Mutation"
   ]
  },
  {
   "cell_type": "markdown",
   "id": "0795b4f3-234d-4889-b6b1-e6cad240786b",
   "metadata": {},
   "source": [
    "Tous les individus de la nouvelle génération on une petite (ou grande) chance de naître avec des mutations. Ceci permet à l’algorithme de chercher des solutions que la génération précédente n’a pas explorées. \n",
    "\n",
    "Comme pour le croisement, les règles du problème nous imposent d’utiliser une méthodologie de mutation particulière : le *mutation swap*. Cela signifie que, pour chaque individu, deux villes échangeront leurs places sur notre itinéraire avec une probabilité définie par la variable `mutationRate`. Plus elle est grande, plus un individu est susceptible d'avoir une ou plusieurs mutations.\n",
    "\n",
    "La fonction `mutatePopulation()` étend le même principe sur toute la population.\n",
    "\n",
    "**Exercice 6** :\n",
    "Complétez le code ci-dessous pour échanger (swap) deux villes de manière aléatoire dans le génome d'un individu.\n"
   ]
  },
  {
   "cell_type": "code",
   "execution_count": 14,
   "id": "7ffb90d7-ac3c-4d01-9381-e58d49754a26",
   "metadata": {},
   "outputs": [],
   "source": [
    "def mutate(individual, mutationRate):\n",
    "    for swapped in range(len(individual)):\n",
    "        if(random.random() < mutationRate):\n",
    "            swapWith = int(random.random() * len(individual))\n",
    "            \n",
    "            # ToDo: à  completer !!\n",
    "            city1 = individual[swapped]\n",
    "            city2 = individual[swapWith]\n",
    "            \n",
    "            individual[swapped] = city2\n",
    "            individual[swapWith] = city1\n",
    "    return individual"
   ]
  },
  {
   "cell_type": "code",
   "execution_count": 15,
   "id": "f20dbac0-db00-48f4-9da2-ccb8ef3b755b",
   "metadata": {},
   "outputs": [],
   "source": [
    "def mutatePopulation(population, mutationRate):\n",
    "    mutatedPop = []\n",
    "    \n",
    "    for ind in range(0, len(population)):\n",
    "        mutatedInd = mutate(population[ind], mutationRate)\n",
    "        mutatedPop.append(mutatedInd)\n",
    "    return mutatedPop"
   ]
  },
  {
   "cell_type": "markdown",
   "id": "ca38c9ae-a6ee-4d60-ba64-e5c764c6a2ed",
   "metadata": {},
   "source": [
    "----\n",
    "**Cellule de TEST**:  Si votre code fonctionne, la prochaine cellule devrait afficher environ **0.5**"
   ]
  },
  {
   "cell_type": "code",
   "execution_count": 16,
   "id": "cb0f698c-40d2-460c-9c88-2ede2357fa58",
   "metadata": {},
   "outputs": [
    {
     "name": "stdout",
     "output_type": "stream",
     "text": [
      "0.505\n"
     ]
    }
   ],
   "source": [
    "import copy\n",
    "\n",
    "individual_test_original = ['A', 'B']\n",
    "individual_test = copy.deepcopy(individual_test_original)\n",
    "counter = 0\n",
    "mutationRate_test = 1 # we  set 50% probability to have a mutation\n",
    "for i in range(0,1000):\n",
    "    individual_test = mutate(individual_test, mutationRate_test)\n",
    "    if individual_test == individual_test_original:\n",
    "        counter = counter + 1\n",
    "        \n",
    "print(counter/1000)\n",
    "    \n"
   ]
  },
  {
   "cell_type": "markdown",
   "id": "4bd5ff8e-64e6-4267-b70d-a1b6bc793cc7",
   "metadata": {},
   "source": [
    "<details>\n",
    "    <summary>Suggestion 1</summary>\n",
    "    \n",
    "    Vous avez besoin de 4 lignes de codes...\n",
    "</details>\n",
    "\n",
    "<details>\n",
    "    <summary>Suggestion 2</summary>\n",
    "<code>city1 = individual[swapped]\n",
    " city2 = individual[swapWith]</code>\n",
    "\n",
    "</details>\n",
    "\n",
    "-\n",
    "\n",
    "*donnez-vous votre langue au chat?* 👅🐱\n",
    "\n",
    "<details>\n",
    "    <summary>Solution</summary>\n",
    "<code>city1 = individual[swapped]\n",
    " city2 = individual[swapWith]\n",
    " individual[swapped] = city2\n",
    " individual[swapWith] = city1</code>\n",
    "</details>\n",
    "\n",
    "---"
   ]
  },
  {
   "cell_type": "markdown",
   "id": "3ac46466-7d5c-4e99-b1a8-cd1a4a5d7e00",
   "metadata": {},
   "source": [
    "## 6. Repeat"
   ]
  },
  {
   "cell_type": "markdown",
   "id": "23d470cc-17be-41c1-a32f-8285bb9eadb1",
   "metadata": {},
   "source": [
    "Nous avons maintenant toutes les pièces pour créer la nouvelle génération à partir de la génération courante.\n",
    "\n",
    "**Exercice 7** :\n",
    "Complétez le code ci-dessous en suivant les instructions suivantes :\n",
    "\n",
    "1.\tClassez les individus de la génération actuelle à l’aide de `rankRoutes()`\n",
    "2.\tDéterminez les parents potentiels en exécutant la fonction `selection()`\n",
    "3.\tCréez un mating pool grâce à la fonction `matingPool()`\n",
    "4.\tCréez la nouvelle génération à l'aide de la fonction `breedPopulation()`\n",
    "5.\tAppliquez les mutations à l'aide de la fonction `mutatePopulation()`\n",
    "\n",
    "*Votre code sera testé dans la section suivante !!*\n",
    "*Si vous vous avez des erreurs, regardez la solution après la cellule ci-dessous.*\n"
   ]
  },
  {
   "cell_type": "code",
   "execution_count": 17,
   "id": "b5f3172d-f9c9-410c-9164-8f8f2195a7c6",
   "metadata": {},
   "outputs": [
    {
     "data": {
      "text/plain": [
       "'\\ndef nextGeneration(currentGen, eliteSize, mutationRate):\\n    popRanked = # ToDo: à  completer !!\\n    selectionResults = # ToDo: à  completer !!\\n    matingpool = # ToDo: à  completer !!\\n    children = # ToDo: à  completer !!\\n    nextGeneration = # ToDo: à  completer !!\\n    return nextGeneration\\n'"
      ]
     },
     "execution_count": 17,
     "metadata": {},
     "output_type": "execute_result"
    }
   ],
   "source": [
    "def nextGeneration(currentGen, eliteSize, mutationRate):\n",
    "    popRanked = rankRoutes(currentGen)\n",
    "    selectionResults = selection(popRanked, eliteSize)\n",
    "    matingpool = matingPool(currentGen, selectionResults)\n",
    "    children = breedPopulation(matingpool, eliteSize)\n",
    "    nextGeneration = mutatePopulation(children, mutationRate)\n",
    "    return nextGeneration\n",
    "\"\"\"\n",
    "def nextGeneration(currentGen, eliteSize, mutationRate):\n",
    "    popRanked = # ToDo: à  completer !!\n",
    "    selectionResults = # ToDo: à  completer !!\n",
    "    matingpool = # ToDo: à  completer !!\n",
    "    children = # ToDo: à  completer !!\n",
    "    nextGeneration = # ToDo: à  completer !!\n",
    "    return nextGeneration\n",
    "\"\"\""
   ]
  },
  {
   "cell_type": "markdown",
   "id": "cb7c1517-979e-42a3-9b8d-14b05e335074",
   "metadata": {},
   "source": [
    "<details>\n",
    "    <summary>Solution</summary>\n",
    "<code>def nextGeneration(currentGen, eliteSize, mutationRate):\n",
    "    popRanked = rankRoutes(currentGen)\n",
    "    selectionResults = selection(popRanked, eliteSize)\n",
    "    matingpool = matingPool(currentGen, selectionResults)\n",
    "    children = breedPopulation(matingpool, eliteSize)\n",
    "    nextGeneration = mutatePopulation(children, mutationRate)\n",
    "    return nextGeneration</code>\n",
    "</details>\n",
    "\n",
    "---"
   ]
  },
  {
   "cell_type": "markdown",
   "id": "f4b45d1f-270b-4b53-b9b6-2415eaafdf7e",
   "metadata": {},
   "source": [
    "# Evolution !"
   ]
  },
  {
   "cell_type": "markdown",
   "id": "0bcc221b-1cda-40e9-99b5-9c324fceca46",
   "metadata": {},
   "source": [
    "C’est tout ! Il ne nous reste que rentrer les valeurs initiales des paramètres, la liste de villes (pour l’instant générée aléatoirement) et sauvegarder les informations qui nous intéressent. \n",
    "\n",
    "Nous sauvegarderons la distance initiale trouvé par la première génération et la distance finale trouvé par la dernière génération. \n",
    "\n",
    "**Exécuter les trois prochaines cellules et c’est parti !**\n",
    "\n",
    "*PS : ça pourrait aussi prendre quelques minutes… c’est normal, pas de stress…*\n"
   ]
  },
  {
   "cell_type": "code",
   "execution_count": 18,
   "id": "766ad482-4b42-4ec5-9d2f-b58ae4f43f47",
   "metadata": {},
   "outputs": [],
   "source": [
    "def geneticAlgorithm(population, popSize, eliteSize, mutationRate, generations):\n",
    "    pop = initialPopulation(popSize, population)\n",
    "    print(\"Initial distance: \" + str(1 / rankRoutes(pop)[0][1]))\n",
    "    initialRouteIndex = rankRoutes(pop)[0][0] # we select the best route of the first generation\n",
    "    initialRoute = pop[initialRouteIndex]\n",
    "    \n",
    "    for i in range(0, generations):\n",
    "        if i % 50 == 0:\n",
    "            print(\"Generation: \", i)\n",
    "        pop = nextGeneration(pop, eliteSize, mutationRate)\n",
    "    \n",
    "    print(\"Evolution COMPLETED!!\")\n",
    "    print(\"Final distance: \" + str(1 / rankRoutes(pop)[0][1]))\n",
    "    bestRouteIndex = rankRoutes(pop)[0][0]\n",
    "    bestRoute = pop[bestRouteIndex]\n",
    "    return bestRoute, initialRoute"
   ]
  },
  {
   "cell_type": "code",
   "execution_count": 19,
   "id": "d55e25c1-6bdb-4eb7-a3e4-f770c62bfb3f",
   "metadata": {},
   "outputs": [],
   "source": [
    "cityList = []\n",
    "\n",
    "for i in range(0,25):\n",
    "    cityList.append(City(x=int(random.random() * 200), y=int(random.random() * 200)))"
   ]
  },
  {
   "cell_type": "code",
   "execution_count": 20,
   "id": "75f4bdac-a45b-4b0e-9889-73fb389e0042",
   "metadata": {},
   "outputs": [
    {
     "name": "stdout",
     "output_type": "stream",
     "text": [
      "Initial distance: 1908.899073268148\n",
      "Generation:  0\n",
      "Generation:  50\n",
      "Generation:  100\n",
      "Generation:  150\n",
      "Generation:  200\n",
      "Generation:  250\n",
      "Generation:  300\n",
      "Generation:  350\n",
      "Generation:  400\n",
      "Generation:  450\n",
      "Evolution COMPLETED!!\n",
      "Final distance: 872.9478068523619\n"
     ]
    }
   ],
   "source": [
    "geneticAlgorithm(population=cityList, popSize=100, eliteSize=20, mutationRate=0.01, generations=500);"
   ]
  },
  {
   "cell_type": "markdown",
   "id": "c335cc86-ae76-4bfe-865c-b795c658dce4",
   "metadata": {},
   "source": [
    "# Plot"
   ]
  },
  {
   "cell_type": "markdown",
   "id": "a276e9fb-9205-46fb-a688-35ea826cbb16",
   "metadata": {},
   "source": [
    "On dit que **une image vaut mille mots…** alors pourquoi se contenter de ces quelques chiffres ?\n",
    "\n",
    "La fonction ci-dessous nous permettra de **voir** comment l'algorithme performe au passage des générations !"
   ]
  },
  {
   "cell_type": "code",
   "execution_count": 21,
   "id": "9e7bc172-7c11-4a6b-9462-4df93555e214",
   "metadata": {},
   "outputs": [],
   "source": [
    "def geneticAlgorithmPlot(population, popSize, eliteSize, mutationRate, generations):\n",
    "    pop = initialPopulation(popSize, population)\n",
    "    progress = []\n",
    "    progress.append(1 / rankRoutes(pop)[0][1])\n",
    "    \n",
    "    for i in range(0, generations):\n",
    "        if i % 50 == 0:\n",
    "            print(\"Generation: \", i)\n",
    "        pop = nextGeneration(pop, eliteSize, mutationRate)\n",
    "        progress.append(1 / rankRoutes(pop)[0][1])\n",
    "    \n",
    "    plt.plot(progress)\n",
    "    plt.ylabel('Distance')\n",
    "    plt.xlabel('Generation')\n",
    "    plt.show()"
   ]
  },
  {
   "cell_type": "markdown",
   "id": "870453ce-4dee-412c-9550-2eeed3fe3980",
   "metadata": {},
   "source": [
    "\n",
    "**Et c’est repartie pour un nouvel entrainement!**"
   ]
  },
  {
   "cell_type": "code",
   "execution_count": 23,
   "id": "da33ae8b-b468-44e9-b99c-f6ef5fd9fe5f",
   "metadata": {},
   "outputs": [
    {
     "name": "stdout",
     "output_type": "stream",
     "text": [
      "Generation:  0\n",
      "Generation:  50\n",
      "Generation:  100\n",
      "Generation:  150\n",
      "Generation:  200\n",
      "Generation:  250\n",
      "Generation:  300\n",
      "Generation:  350\n",
      "Generation:  400\n",
      "Generation:  450\n"
     ]
    },
    {
     "data": {
      "image/png": "[encoded data removed]",
      "text/plain": [
       "<Figure size 432x288 with 1 Axes>"
      ]
     },
     "metadata": {
      "needs_background": "light"
     },
     "output_type": "display_data"
    }
   ],
   "source": [
    "geneticAlgorithmPlot(population=cityList, popSize=100, eliteSize=20, mutationRate=0.01, generations=500)"
   ]
  },
  {
   "cell_type": "markdown",
   "id": "c4ab0584-820c-47d2-ac1f-22abbdae38d0",
   "metadata": {},
   "source": [
    "# Challenge the Evolution!\n",
    "\n",
    "L’algorithme est complète, il apprend génération après génération et donne des réponses toujours meilleures… mais **pouvez-vous le battre ?**\n",
    "\n",
    "Jouons avec les coordonnées des villes suisses. Savez-vous que les coordonnées officielles de la Suisse ne sont pas exprimées en latitude et longitude (au moins pas que ça).\n",
    "\n",
    "*« En Suisse, l’origine du système se trouve à l’ancien observatoire astronomique de Berne. Les coordonnées sont comptées en mètres à partir de ce point : elles croissent vers l’est et le nord, décroissent vers l’ouest et le sud. Contrairement à ce que l’on aurait pu penser, l’origine ne s’est pas vu attribuer les coordonnées 0 m / 0 m, mais les valeurs :*\n",
    "\n",
    "*E = 2 600 000 m (Est) et N = 1 200 000 m (Nord)*\n",
    "\n",
    "*Cette définition permet d’éviter des coordonnées négatives au sud et à l’ouest de Berne sur le territoire suisse. Toute confusion entre les valeurs Est et Nord est également exclue. »*\n",
    "(source [SwissTopo](https://www.swisstopo.admin.ch/fr/connaissances-faits/mensuration-geodesie/coordonnees/coordonnees-suisses.html))"
   ]
  },
  {
   "cell_type": "markdown",
   "id": "9ef74adb-3404-44b2-b3d0-e66f01adee20",
   "metadata": {},
   "source": [
    "##### Nous créons une nouvelle liste de villes"
   ]
  },
  {
   "cell_type": "code",
   "execution_count": 34,
   "id": "a0cd36cf-c1c8-46e7-8c77-d6eb664b4fba",
   "metadata": {},
   "outputs": [],
   "source": [
    "# Coordonnées Suisse\n",
    "cityList_swiss = []\n",
    "cityList_swiss.append(City(x=2592636, y= 1118564, name=\"Sion\"))\n",
    "cityList_swiss.append(City(x=2554092, y= 1145904, name=\"Vevey\"))\n",
    "cityList_swiss.append(City(x=2572184, y= 1106154, name=\"Martigny\"))\n",
    "cityList_swiss.append(City(x=2607280, y= 1126824, name=\"Sierre\")) \n",
    "cityList_swiss.append(City(x=2600000, y= 1200000, name=\"Bern\"))\n",
    "cityList_swiss.append(City(x=2578142, y= 1183840, name=\"Fribourg\")) \n",
    "cityList_swiss.append(City(x=2537781, y= 1152080 , name=\"Lausanne\"))\n",
    "cityList_swiss.append(City(x=2499950, y= 1118074, name=\"Geneva\"))\n",
    "cityList_swiss.append(City(x=2682624, y= 1248272, name=\"Zurich\"))\n",
    "cityList_swiss.append(City(x=2588096, y= 1147132, name=\"Gstaad\"))\n",
    "\n"
   ]
  },
  {
   "cell_type": "markdown",
   "id": "37432d82-6aed-4c64-a41f-62717d459091",
   "metadata": {},
   "source": [
    "## Challenge: \n",
    "\n",
    "1. Trouvez le meilleur chemin à vol d’oiseaux entre la liste de villes ci-dessous.\n",
    "2. Pouvez-vous battre l’algorithme génétique ? (spoiler: no, you can't  :-P)\n",
    "3. Comparez votre solutions à la solution affichée par les prochaines cellules\n"
   ]
  },
  {
   "cell_type": "markdown",
   "id": "3e82a2b2-3c84-43cd-beb6-f81584eed33a",
   "metadata": {
    "tags": []
   },
   "source": [
    "##### On cherche la meilleure solution dans la liste des villes suisses"
   ]
  },
  {
   "cell_type": "code",
   "execution_count": 35,
   "id": "37601eee-0847-40bc-ba6b-c870087af1dd",
   "metadata": {},
   "outputs": [
    {
     "name": "stdout",
     "output_type": "stream",
     "text": [
      "Initial distance: 573526.530304864\n",
      "Generation:  0\n",
      "Generation:  50\n",
      "Generation:  100\n",
      "Generation:  150\n",
      "Generation:  200\n",
      "Generation:  250\n",
      "Generation:  300\n",
      "Generation:  350\n",
      "Generation:  400\n",
      "Generation:  450\n",
      "Evolution COMPLETED!!\n",
      "Final distance: 516421.31002330495\n"
     ]
    }
   ],
   "source": [
    "bestRoute, initialRoute = geneticAlgorithm(population=cityList_swiss, popSize=20, eliteSize=3, mutationRate=0.01, generations=500)"
   ]
  },
  {
   "cell_type": "markdown",
   "id": "4b442b35-af16-4a0a-a8e3-dce4c4e7be10",
   "metadata": {},
   "source": [
    "##### On écrit une fonction pour afficher les villes dans un graphique très simple (scatter plot)"
   ]
  },
  {
   "cell_type": "code",
   "execution_count": 36,
   "id": "ab57ae65-ae34-4eb9-b0d5-5aa3bfa86ee1",
   "metadata": {},
   "outputs": [],
   "source": [
    "def printRoute(cityList, route=[], show_solution = False):\n",
    "    x_coo = []\n",
    "    y_coo = []\n",
    "    cityNames = []\n",
    "\n",
    "    for city in cityList:\n",
    "        x_coo.append(city.x)\n",
    "        y_coo.append(city.y)\n",
    "        cityNames.append(city.name)\n",
    "\n",
    "    plt.scatter(x=x_coo, y=y_coo, marker='o')\n",
    "    for i, txt in enumerate(cityNames):\n",
    "        plt.annotate(txt, (x_coo[i], y_coo[i]), fontsize=14)\n",
    "\n",
    "    if show_solution is True:\n",
    "        lastStop = len(route)-1\n",
    "        for i in range(1, len(route)):\n",
    "            x=[bestRoute[i-1].x,route[i].x]\n",
    "            y=[bestRoute[i-1].y,route[i].y]\n",
    "            plt.plot(x, y, 'ro-')\n",
    "\n",
    "        x=[route[lastStop].x,route[0].x]\n",
    "        y=[route[lastStop].y,route[0].y]\n",
    "        plt.plot(x, y, 'ro-')\n",
    "\n",
    "    plt.show()"
   ]
  },
  {
   "cell_type": "markdown",
   "id": "82660f1b-b4bb-4671-bbcb-97437cb6ff8b",
   "metadata": {},
   "source": [
    "##### On affiche les villes sans devoiler la solution"
   ]
  },
  {
   "cell_type": "code",
   "execution_count": 37,
   "id": "27f7ebcf-1850-4f13-bdf5-faeb14fca030",
   "metadata": {},
   "outputs": [
    {
     "data": {
      "image/png": "[encoded data removed]",
      "text/plain": [
       "<Figure size 432x288 with 1 Axes>"
      ]
     },
     "metadata": {
      "needs_background": "light"
     },
     "output_type": "display_data"
    }
   ],
   "source": [
    "printRoute(cityList_swiss)"
   ]
  },
  {
   "cell_type": "markdown",
   "id": "ee1eda91-7e71-4764-a23d-a21c3a7758c1",
   "metadata": {},
   "source": [
    "---\n",
    "##### donnez-vous votre langue au chat? 👅🐱"
   ]
  },
  {
   "cell_type": "markdown",
   "id": "5be24742-2e28-4e9a-b2d1-2c08db6833ba",
   "metadata": {},
   "source": [
    "##### On dessine la meilleure route trouvée à la première génération"
   ]
  },
  {
   "cell_type": "code",
   "execution_count": 38,
   "id": "ec47aef7-ed78-45a2-87a3-88ed5149ac0c",
   "metadata": {},
   "outputs": [
    {
     "data": {
      "image/png": "[encoded data removed]",
      "text/plain": [
       "<Figure size 432x288 with 1 Axes>"
      ]
     },
     "metadata": {
      "needs_background": "light"
     },
     "output_type": "display_data"
    }
   ],
   "source": [
    "printRoute(cityList_swiss, initialRoute, show_solution=True)\n"
   ]
  },
  {
   "cell_type": "markdown",
   "id": "acff9197-5774-47ab-8921-dca122399c23",
   "metadata": {},
   "source": [
    "#### On dessine la meilleure route trouvée à la dernière génération"
   ]
  },
  {
   "cell_type": "code",
   "execution_count": 39,
   "id": "b695928f-5df5-4c4f-88ee-25f5914a6306",
   "metadata": {},
   "outputs": [
    {
     "data": {
      "image/png": "[encoded data removed]",
      "text/plain": [
       "<Figure size 432x288 with 1 Axes>"
      ]
     },
     "metadata": {
      "needs_background": "light"
     },
     "output_type": "display_data"
    }
   ],
   "source": [
    "printRoute(cityList_swiss, bestRoute, show_solution=True)"
   ]
  },
  {
   "cell_type": "markdown",
   "id": "23d13e2c-1074-4e7b-9df0-eb20caa80592",
   "metadata": {},
   "source": [
    "### Optionnel :\n",
    "- Faites un plot des performances de l’algo sur les villes suisses (cela vous montrera pourquoi vous ne pouviez pas le battre)\n",
    "- Pour prendre votre revanche, essayez de changer le nombre de générations et les autres paramètres (population size, nombre de générations, etc.) et comparez les résultats\n",
    "- Ajoutez ou supprimez des autres villes dans la liste `cityList_swiss = []`\n",
    "   + allez sur https://map.geo.admin.ch/\n",
    "   + cliquez avec le bouton droit sur l’emplacement désiré\n",
    "   + reprenez les coordonnées dans le format CH1903+ / LV95 (voir image ci-dessous)\n",
    "\n",
    "![alt text](pics/SwissCoo.png \"Exemple coordonnées Martigny\")\n"
   ]
  },
  {
   "cell_type": "markdown",
   "id": "49644a50-82c4-4e10-abd4-b740e86149c6",
   "metadata": {},
   "source": [
    "## References"
   ]
  },
  {
   "cell_type": "markdown",
   "id": "a6ffdecf-942e-4e63-b055-72b5973b84db",
   "metadata": {},
   "source": [
    "1. Article original by [Eric Stoltz - Evolution of a salesman](https://towardsdatascience.com/evolution-of-a-salesman-a-complete-genetic-algorithm-tutorial-for-python-6fe5d2b3ca35). Kudos to him!\n",
    "2. Algorithmes génétiques - Wikipedia: [fr.wikipedia.org/wiki/Algorithme_génétique](https://fr.wikipedia.org/wiki/Algorithme_g%C3%A9n%C3%A9tique)\n",
    "3. Problème du voyageur de commerce - Wikipedia: [fr.wikipedia.org/wiki/Problème_du_voyageur_de_commerce](https://fr.wikipedia.org/wiki/Probl%C3%A8me_du_voyageur_de_commerce)"
   ]
  },
  {
   "cell_type": "code",
   "execution_count": null,
   "id": "67f9171d-7a02-4f04-ae15-1a25f8ae87ba",
   "metadata": {},
   "outputs": [],
   "source": []
  },
  {
   "cell_type": "code",
   "execution_count": null,
   "id": "dd4e9789-9ae8-464d-9049-8838f1c1cf80",
   "metadata": {},
   "outputs": [],
   "source": []
  }
 ],
 "metadata": {
  "kernelspec": {
   "display_name": "Python 3 (ipykernel)",
   "language": "python",
   "name": "python3"
  },
  "language_info": {
   "codemirror_mode": {
    "name": "ipython",
    "version": 3
   },
   "file_extension": ".py",
   "mimetype": "text/x-python",
   "name": "python",
   "nbconvert_exporter": "python",
   "pygments_lexer": "ipython3",
   "version": "3.7.9"
  }
 },
 "nbformat": 4,
 "nbformat_minor": 5
}
